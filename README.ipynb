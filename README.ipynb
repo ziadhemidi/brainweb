{
 "cells": [
  {
   "cell_type": "markdown",
   "metadata": {},
   "source": [
    "# BrainWeb-based multimodal models of 20 normal brains\n",
    "\n",
    "This project was initially inspired by \"[BrainWeb: 20 Anatomical Models of 20 Normal Brains][RawData].\"\n",
    "\n",
    "However there are a number of generally useful tools, image processing & display functions included in this project. For example, this includes `volshow()` for interactive comparison of multiple 3D volumes, `get_file()` for caching data URLs, and `register()` for image coregistration.\n",
    "\n",
    "[![PyPI]][PyPI-target]|[![CI]][CI-target]|[![Quality]][Quality-target]|[![DOI]][DOI-target]|[![LICENCE]][LICENCE-target]\n",
    "-|-|-|-|-\n",
    "\n",
    "**Download and Preprocessing for PET-MR Simulations**\n",
    "\n",
    "This notebook will not re-download/re-process files if they already exist.\n",
    "\n",
    "- Output data\n",
    "    + `~/.brainweb/subject_*.npz`: dtype(shape): `float32(127, 344, 344)`\n",
    "\n",
    "- [Raw data source][RawData]\n",
    "    + `~/.brainweb/subject_*.bin.gz`: dtype(shape): `uint16(362, 434, 362)`\n",
    "\n",
    "- Install\n",
    "    + `pip install brainweb`\n",
    "\n",
    "----\n",
    "\n",
    "- Author: Casper da Costa-Luis <<casper.dcl@physics.org>>\n",
    "- Date: 2017-2020\n",
    "- Licence: [MPLv2.0](https://www.mozilla.org/MPL/2.0)\n",
    "\n",
    "[RawData]: http://brainweb.bic.mni.mcgill.ca/brainweb/anatomic_normal_20.html\n",
    "[PyPI]: https://img.shields.io/pypi/v/brainweb.svg\n",
    "[PyPI-target]: https://pypi.org/project/brainweb\n",
    "[CI]: https://travis-ci.org/casperdcl/brainweb.svg?branch=master\n",
    "[CI-target]: https://travis-ci.org/casperdcl/brainweb\n",
    "[Quality]: https://api.codacy.com/project/badge/Grade/cdad13693b0141199c31d5b44c7ab185\n",
    "[Quality-target]: https://www.codacy.com/app/casper-dcl/brainweb\n",
    "[DOI]: https://zenodo.org/badge/DOI/10.5281/zenodo.3269888.svg\n",
    "[DOI-target]: https://doi.org/10.5281/zenodo.3269888\n",
    "[LICENCE]: https://img.shields.io/pypi/l/brainweb.svg?label=licence\n",
    "[LICENCE-target]: https://www.mozilla.org/MPL/2.0"
   ]
  },
  {
   "cell_type": "code",
   "execution_count": 2,
   "metadata": {},
   "outputs": [],
   "source": [
    "from __future__ import print_function, division\n",
    "%matplotlib inline\n",
    "import brainweb\n",
    "from brainweb import volshow\n",
    "import numpy as np\n",
    "from os import path\n",
    "from tqdm.auto import tqdm\n",
    "import logging\n",
    "logging.basicConfig(level=logging.INFO)"
   ]
  },
  {
   "cell_type": "markdown",
   "metadata": {},
   "source": [
    "## Raw Data"
   ]
  },
  {
   "cell_type": "code",
   "execution_count": 3,
   "metadata": {},
   "outputs": [
    {
     "data": {
      "application/vnd.jupyter.widget-view+json": {
       "model_id": "f66fe86143c14434a6db1857955ab6a0",
       "version_major": 2,
       "version_minor": 0
      },
      "text/plain": [
       "BrainWeb Subjects:   0%|          | 0/20 [00:00<?, ?file/s]"
      ]
     },
     "metadata": {},
     "output_type": "display_data"
    },
    {
     "name": "stdout",
     "output_type": "stream",
     "text": [
      "/home/alhajhemidi/.brainweb/subject_54.bin.gz\n"
     ]
    }
   ],
   "source": [
    "# download\n",
    "files = brainweb.get_files()\n",
    "\n",
    "# read last file\n",
    "data = brainweb.load_file(files[-1])\n",
    "\n",
    "# show last subject\n",
    "print(files[-1])\n"
   ]
  },
  {
   "cell_type": "code",
   "execution_count": 4,
   "metadata": {},
   "outputs": [
    {
     "data": {
      "application/vnd.jupyter.widget-view+json": {
       "model_id": "570c7de3e46d4760806b099e91e491c2",
       "version_major": 2,
       "version_minor": 0
      },
      "text/plain": [
       "Output()"
      ]
     },
     "metadata": {},
     "output_type": "display_data"
    },
    {
     "data": {
      "text/plain": [
       "<Figure size 640x480 with 0 Axes>"
      ]
     },
     "metadata": {},
     "output_type": "display_data"
    },
    {
     "data": {
      "application/vnd.jupyter.widget-view+json": {
       "model_id": "65b53e8f297f4f08b9f8ee4909bc4eaf",
       "version_major": 2,
       "version_minor": 0
      },
      "text/plain": [
       "interactive(children=(IntSlider(value=181, description='z', max=361), Output()), _dom_classes=('widget-interac…"
      ]
     },
     "metadata": {},
     "output_type": "display_data"
    }
   ],
   "source": [
    "volshow(data, cmaps=['gist_ncar']);"
   ]
  },
  {
   "attachments": {},
   "cell_type": "markdown",
   "metadata": {},
   "source": [
    "## Transform\n",
    "\n",
    "<div style=\"visibility: hidden\">$\\ifcsname bm\\endcsname\\else\\newcommand{\\bm}[1]{\\mathbf{#1}}\\fi$</div>\n",
    "Convert raw image data:\n",
    "\n",
    "- Siemens Biograph mMR resolution (~2mm) & dimensions (127, 344, 344)\n",
    "- PET/T1/T2/uMap intensities\n",
    "  + PET defaults to FDG intensity ratios; could use e.g. Amyloid instead\n",
    "- randomised structure for PET/T1/T2\n",
    "  + $\\bm{\\theta} \\circ (\\bm{1} + \\gamma[2G_\\sigma(\\bm{\\rho}) - \\bm{1}])$\n",
    "    * $\\bm{\\rho} = rand(127, 344, 344) \\in [0, 1)$\n",
    "    * Gaussian smoothing $\\sigma = 1$\n",
    "    * $\\gamma = \\left\\{\\matrix{1 & \\text{for PET}\\\\ 0.75 & \\text{for MR}}\\right.$\n",
    "    * $\\bm{\\theta}$ is the PET or MR piecewise constant phantom"
   ]
  },
  {
   "cell_type": "code",
   "execution_count": 6,
   "metadata": {},
   "outputs": [
    {
     "data": {
      "application/vnd.jupyter.widget-view+json": {
       "model_id": "ba2bca83f6a14a26b2e940affa443f0a",
       "version_major": 2,
       "version_minor": 0
      },
      "text/plain": [
       "BrainWeb labels:   0%|          | 0/12 [00:00<?, ?label/s]"
      ]
     },
     "metadata": {},
     "output_type": "display_data"
    },
    {
     "data": {
      "application/vnd.jupyter.widget-view+json": {
       "model_id": "2dfed17504c14208b8484c9b89e67315",
       "version_major": 2,
       "version_minor": 0
      },
      "text/plain": [
       "Trimming ROI:   0%|          | 0/4 [00:00<?, ?it/s]"
      ]
     },
     "metadata": {},
     "output_type": "display_data"
    },
    {
     "data": {
      "application/vnd.jupyter.widget-view+json": {
       "model_id": "12ef90ab6b2d410eb93d33c763bee2a1",
       "version_major": 2,
       "version_minor": 0
      },
      "text/plain": [
       "Output()"
      ]
     },
     "metadata": {},
     "output_type": "display_data"
    },
    {
     "data": {
      "text/plain": [
       "<Figure size 640x480 with 0 Axes>"
      ]
     },
     "metadata": {},
     "output_type": "display_data"
    },
    {
     "data": {
      "application/vnd.jupyter.widget-view+json": {
       "model_id": "125b6f87afc54d7fb9ba179fd1754783",
       "version_major": 2,
       "version_minor": 0
      },
      "text/plain": [
       "interactive(children=(IntSlider(value=44, description='z', max=88), Output()), _dom_classes=('widget-interact'…"
      ]
     },
     "metadata": {},
     "output_type": "display_data"
    }
   ],
   "source": [
    "# show region probability masks\n",
    "PetClass = brainweb.FDG\n",
    "label_probs = brainweb.get_label_probabilities(files[-1], labels=PetClass.all_labels)\n",
    "volshow(label_probs[brainweb.trim_zeros_ROI(label_probs)], titles=PetClass.all_labels, frameon=False);"
   ]
  },
  {
   "cell_type": "code",
   "execution_count": 7,
   "metadata": {},
   "outputs": [
    {
     "data": {
      "application/vnd.jupyter.widget-view+json": {
       "model_id": "a939b79f02cc4dcbb47891ae59a211fd",
       "version_major": 2,
       "version_minor": 0
      },
      "text/plain": [
       "Trimming ROI:   0%|          | 0/4 [00:00<?, ?it/s]"
      ]
     },
     "metadata": {},
     "output_type": "display_data"
    },
    {
     "data": {
      "image/png": "[encoded data removed]",
      "text/plain": [
       "<Figure size 640x480 with 1 Axes>"
      ]
     },
     "metadata": {},
     "output_type": "display_data"
    }
   ],
   "source": [
    "from matplotlib import pyplot as plt\n",
    "plt.imshow(label_probs[brainweb.trim_zeros_ROI(label_probs)][2, 45, :], cmap='gray');"
   ]
  },
  {
   "cell_type": "code",
   "execution_count": 9,
   "metadata": {},
   "outputs": [
    {
     "data": {
      "application/vnd.jupyter.widget-view+json": {
       "model_id": "7ef927971f49482d8f5c2cc3e4436722",
       "version_major": 2,
       "version_minor": 0
      },
      "text/plain": [
       "Trimming ROI:   0%|          | 0/4 [00:00<?, ?it/s]"
      ]
     },
     "metadata": {},
     "output_type": "display_data"
    },
    {
     "data": {
      "application/vnd.jupyter.widget-view+json": {
       "model_id": "dbc827abde1e4ab2b3bd1584d1c8cfe7",
       "version_major": 2,
       "version_minor": 0
      },
      "text/plain": [
       "Trimming ROI:   0%|          | 0/4 [00:00<?, ?it/s]"
      ]
     },
     "metadata": {},
     "output_type": "display_data"
    },
    {
     "data": {
      "application/vnd.jupyter.widget-view+json": {
       "model_id": "39ebc187cd0841798258658d9a471fca",
       "version_major": 2,
       "version_minor": 0
      },
      "text/plain": [
       "Trimming ROI:   0%|          | 0/4 [00:00<?, ?it/s]"
      ]
     },
     "metadata": {},
     "output_type": "display_data"
    },
    {
     "data": {
      "application/vnd.jupyter.widget-view+json": {
       "model_id": "615c6318ca674cff88e469e98ad68a24",
       "version_major": 2,
       "version_minor": 0
      },
      "text/plain": [
       "Trimming ROI:   0%|          | 0/4 [00:00<?, ?it/s]"
      ]
     },
     "metadata": {},
     "output_type": "display_data"
    },
    {
     "data": {
      "application/vnd.jupyter.widget-view+json": {
       "model_id": "526f242087fe498bac98aaf237260b7f",
       "version_major": 2,
       "version_minor": 0
      },
      "text/plain": [
       "Trimming ROI:   0%|          | 0/4 [00:00<?, ?it/s]"
      ]
     },
     "metadata": {},
     "output_type": "display_data"
    },
    {
     "data": {
      "application/vnd.jupyter.widget-view+json": {
       "model_id": "3dcecbdac3844598a7e20ebc19703e03",
       "version_major": 2,
       "version_minor": 0
      },
      "text/plain": [
       "Trimming ROI:   0%|          | 0/4 [00:00<?, ?it/s]"
      ]
     },
     "metadata": {},
     "output_type": "display_data"
    },
    {
     "data": {
      "application/vnd.jupyter.widget-view+json": {
       "model_id": "3444fc6ee8cc402e87c36177d903c168",
       "version_major": 2,
       "version_minor": 0
      },
      "text/plain": [
       "Trimming ROI:   0%|          | 0/4 [00:00<?, ?it/s]"
      ]
     },
     "metadata": {},
     "output_type": "display_data"
    },
    {
     "data": {
      "application/vnd.jupyter.widget-view+json": {
       "model_id": "da74cf45db1a471ab057f270bf8dfa54",
       "version_major": 2,
       "version_minor": 0
      },
      "text/plain": [
       "Trimming ROI:   0%|          | 0/4 [00:00<?, ?it/s]"
      ]
     },
     "metadata": {},
     "output_type": "display_data"
    }
   ],
   "source": [
    "csf_label = label_probs[brainweb.trim_zeros_ROI(label_probs)][1, 45, :]\n",
    "gray_label = label_probs[brainweb.trim_zeros_ROI(label_probs)][2, 45, :]\n",
    "white_label = label_probs[brainweb.trim_zeros_ROI(label_probs)][3, 45, :]\n",
    "fat_label = label_probs[brainweb.trim_zeros_ROI(label_probs)][4, 45, :]\n",
    "muscle_label = label_probs[brainweb.trim_zeros_ROI(label_probs)][5, 45, :]\n",
    "skin_label = label_probs[brainweb.trim_zeros_ROI(label_probs)][6, 45, :]\n",
    "skull_label = label_probs[brainweb.trim_zeros_ROI(label_probs)][7, 45, :]\n",
    "vessels_label = label_probs[brainweb.trim_zeros_ROI(label_probs)][8, 45, :]\n"
   ]
  },
  {
   "cell_type": "code",
   "execution_count": 13,
   "metadata": {},
   "outputs": [
    {
     "name": "stderr",
     "output_type": "stream",
     "text": [
      "/tmp/ipykernel_136322/4091589966.py:17: DeprecationWarning: Please use `gaussian_filter` from the `scipy.ndimage` namespace, the `scipy.ndimage.filters` namespace is deprecated.\n",
      "  from scipy.ndimage.filters import gaussian_filter\n"
     ]
    },
    {
     "data": {
      "text/plain": [
       "<matplotlib.image.AxesImage at 0x7f5f80ec9a90>"
      ]
     },
     "execution_count": 13,
     "metadata": {},
     "output_type": "execute_result"
    },
    {
     "data": {
      "image/png": "[encoded data removed]",
      "text/plain": [
       "<Figure size 640x480 with 1 Axes>"
      ]
     },
     "metadata": {},
     "output_type": "display_data"
    }
   ],
   "source": [
    "image = np.zeros_like(vessels_label)\n",
    "gray_value = brainweb.T2.greyMatter\n",
    "white_value = brainweb.T2.whiteMatter\n",
    "csf_value = brainweb.T2.csf\n",
    "fat_value = brainweb.T2.fat\n",
    "muscle_value = brainweb.T2.muscle\n",
    "skin_value = brainweb.T2.skin\n",
    "skull_value = brainweb.T2.skull\n",
    "vessels_value = brainweb.T2.vessels\n",
    "\n",
    "image[csf_label == 1.0] = 100 * np.exp(- (200/csf_value))\n",
    "image[gray_label == 1.0] = 70 * np.exp(- (200/gray_value))\n",
    "image[white_label == 1.0] = 60 * np.exp(- (200/white_value))\n",
    "image[skin_label == 1.0] = 95 * np.exp(- (200/skin_value))\n",
    "image[skull_label == 1.0] = 10 * np.exp(- (200/skull_value))\n",
    "image[vessels_label == 1.0] = 85 * np.exp(- (200/vessels_value))\n",
    "from scipy.ndimage.filters import gaussian_filter\n",
    "image = gaussian_filter(image, sigma=0.6) + np.random.normal(0, 1.0, image.shape)\n",
    "\n",
    "plt.imshow(image, cmap='gray')\n"
   ]
  },
  {
   "cell_type": "code",
   "execution_count": 5,
   "metadata": {},
   "outputs": [
    {
     "data": {
      "application/vnd.jupyter.widget-view+json": {
       "model_id": "595bc0f1ac724eb7a5702a845a44c5d5",
       "version_major": 2,
       "version_minor": 0
      },
      "text/plain": [
       "mMR ground truths:   0%|          | 0/20 [00:00<?, ?subject/s]"
      ]
     },
     "metadata": {},
     "output_type": "display_data"
    }
   ],
   "source": [
    "brainweb.seed(1337)\n",
    "\n",
    "for f in tqdm(files, desc=\"mMR ground truths\", unit=\"subject\"):\n",
    "    vol = brainweb.get_mmr_fromfile(\n",
    "        f,\n",
    "        petNoise=1, t1Noise=0.75, t2Noise=0.75,\n",
    "        petSigma=1, t1Sigma=1, t2Sigma=1,\n",
    "        PetClass=PetClass)"
   ]
  },
  {
   "cell_type": "code",
   "execution_count": 14,
   "metadata": {},
   "outputs": [
    {
     "name": "stdout",
     "output_type": "stream",
     "text": [
      "/home/alhajhemidi/.brainweb/subject_05.bin.gz\n"
     ]
    },
    {
     "data": {
      "application/vnd.jupyter.widget-view+json": {
       "model_id": "f012866545e64744a187e77f545182be",
       "version_major": 2,
       "version_minor": 0
      },
      "text/plain": [
       "Output()"
      ]
     },
     "metadata": {},
     "output_type": "display_data"
    },
    {
     "data": {
      "text/plain": [
       "<Figure size 640x480 with 0 Axes>"
      ]
     },
     "metadata": {},
     "output_type": "display_data"
    },
    {
     "data": {
      "application/vnd.jupyter.widget-view+json": {
       "model_id": "4d5dba724a224b7499d7bad3e1e44dcd",
       "version_major": 2,
       "version_minor": 0
      },
      "text/plain": [
       "interactive(children=(IntSlider(value=63, description='z', max=126), Output()), _dom_classes=('widget-interact…"
      ]
     },
     "metadata": {},
     "output_type": "display_data"
    }
   ],
   "source": [
    "# show last subject\n",
    "print(files[1])\n",
    "volshow([vol['PET' ][:, 100:-100, 100:-100],\n",
    "         vol['uMap'][:, 100:-100, 100:-100],\n",
    "         vol['T1'  ][:, 100:-100, 100:-100],\n",
    "         vol['T2'  ][:, 100:-100, 100:-100]],\n",
    "        cmaps=['hot', 'bone', 'Greys_r', 'Greys_r'],\n",
    "        titles=[\"PET\", \"uMap\", \"T1\", \"T2\"],\n",
    "        frameon=False);"
   ]
  },
  {
   "cell_type": "code",
   "execution_count": 13,
   "metadata": {},
   "outputs": [
    {
     "data": {
      "application/vnd.jupyter.widget-view+json": {
       "model_id": "897d04da617c41bd9825670657b27d3c",
       "version_major": 2,
       "version_minor": 0
      },
      "text/plain": [
       "Output()"
      ]
     },
     "metadata": {},
     "output_type": "display_data"
    },
    {
     "data": {
      "text/plain": [
       "<Figure size 640x480 with 0 Axes>"
      ]
     },
     "metadata": {},
     "output_type": "display_data"
    },
    {
     "data": {
      "application/vnd.jupyter.widget-view+json": {
       "model_id": "60fbe81b76dd4ae9a61b10db8e27b9e9",
       "version_major": 2,
       "version_minor": 0
      },
      "text/plain": [
       "interactive(children=(IntSlider(value=63, description='z', max=126), Output()), _dom_classes=('widget-interact…"
      ]
     },
     "metadata": {},
     "output_type": "display_data"
    }
   ],
   "source": [
    "# add some lesions\n",
    "brainweb.seed(2000)\n",
    "im3d = brainweb.add_lesions(vol['T2'])\n",
    "volshow(im3d[:, 100:-100, 100:-100], cmaps=['Greys_r']);"
   ]
  },
  {
   "cell_type": "code",
   "execution_count": 8,
   "metadata": {},
   "outputs": [
    {
     "ename": "ModuleNotFoundError",
     "evalue": "No module named 'dipy'",
     "output_type": "error",
     "traceback": [
      "\u001b[0;31m---------------------------------------------------------------------------\u001b[0m",
      "\u001b[0;31mModuleNotFoundError\u001b[0m                       Traceback (most recent call last)",
      "Cell \u001b[0;32mIn[8], line 3\u001b[0m\n\u001b[1;32m      1\u001b[0m \u001b[39m# bonus: use brute-force registration to transform\u001b[39;00m\n\u001b[1;32m      2\u001b[0m \u001b[39m#!pip install -U 'brainweb[register]'\u001b[39;00m\n\u001b[0;32m----> 3\u001b[0m reg \u001b[39m=\u001b[39m brainweb\u001b[39m.\u001b[39;49mregister(\n\u001b[1;32m      4\u001b[0m     data[:, ::\u001b[39m-\u001b[39;49m\u001b[39m1\u001b[39;49m], target\u001b[39m=\u001b[39;49mvol[\u001b[39m'\u001b[39;49m\u001b[39mPET\u001b[39;49m\u001b[39m'\u001b[39;49m],\n\u001b[1;32m      5\u001b[0m     src_resolution\u001b[39m=\u001b[39;49mbrainweb\u001b[39m.\u001b[39;49mRes\u001b[39m.\u001b[39;49mbrainweb,\n\u001b[1;32m      6\u001b[0m     target_resolution\u001b[39m=\u001b[39;49mbrainweb\u001b[39m.\u001b[39;49mRes\u001b[39m.\u001b[39;49mmMR)\n\u001b[1;32m      8\u001b[0m volshow({\n\u001b[1;32m      9\u001b[0m     \u001b[39m\"\u001b[39m\u001b[39mPET\u001b[39m\u001b[39m\"\u001b[39m:    vol[\u001b[39m'\u001b[39m\u001b[39mPET\u001b[39m\u001b[39m'\u001b[39m][:, \u001b[39m100\u001b[39m:\u001b[39m-\u001b[39m\u001b[39m100\u001b[39m, \u001b[39m100\u001b[39m:\u001b[39m-\u001b[39m\u001b[39m100\u001b[39m],\n\u001b[1;32m     10\u001b[0m     \u001b[39m\"\u001b[39m\u001b[39mRawReg\u001b[39m\u001b[39m\"\u001b[39m: reg[       :, \u001b[39m100\u001b[39m:\u001b[39m-\u001b[39m\u001b[39m100\u001b[39m, \u001b[39m100\u001b[39m:\u001b[39m-\u001b[39m\u001b[39m100\u001b[39m],\n\u001b[1;32m     11\u001b[0m     \u001b[39m\"\u001b[39m\u001b[39mT1\u001b[39m\u001b[39m\"\u001b[39m:     vol[\u001b[39m'\u001b[39m\u001b[39mT1\u001b[39m\u001b[39m'\u001b[39m ][:, \u001b[39m100\u001b[39m:\u001b[39m-\u001b[39m\u001b[39m100\u001b[39m, \u001b[39m100\u001b[39m:\u001b[39m-\u001b[39m\u001b[39m100\u001b[39m],\n\u001b[1;32m     12\u001b[0m }, cmaps\u001b[39m=\u001b[39m[\u001b[39m'\u001b[39m\u001b[39mhot\u001b[39m\u001b[39m'\u001b[39m, \u001b[39m'\u001b[39m\u001b[39mgist_ncar\u001b[39m\u001b[39m'\u001b[39m, \u001b[39m'\u001b[39m\u001b[39mGreys_r\u001b[39m\u001b[39m'\u001b[39m], ncols\u001b[39m=\u001b[39m\u001b[39m3\u001b[39m, tight_layout\u001b[39m=\u001b[39m\u001b[39m5\u001b[39m, figsize\u001b[39m=\u001b[39m(\u001b[39m9.5\u001b[39m, \u001b[39m3.5\u001b[39m), frameon\u001b[39m=\u001b[39m\u001b[39mFalse\u001b[39;00m);\n",
      "File \u001b[0;32m/mnt/remote/brainweb/brainweb/utils.py:620\u001b[0m, in \u001b[0;36mregister\u001b[0;34m(src, target, ROI, target_shape, src_resolution, target_resolution, method, src_offset, dtype)\u001b[0m\n\u001b[1;32m    596\u001b[0m \u001b[39mdef\u001b[39;00m \u001b[39mregister\u001b[39m(src, target\u001b[39m=\u001b[39m\u001b[39mNone\u001b[39;00m, ROI\u001b[39m=\u001b[39m\u001b[39mNone\u001b[39;00m, target_shape\u001b[39m=\u001b[39mShape\u001b[39m.\u001b[39mmMR,\n\u001b[1;32m    597\u001b[0m              src_resolution\u001b[39m=\u001b[39mRes\u001b[39m.\u001b[39mMR, target_resolution\u001b[39m=\u001b[39mRes\u001b[39m.\u001b[39mmMR,\n\u001b[1;32m    598\u001b[0m              method\u001b[39m=\u001b[39m\u001b[39m\"\u001b[39m\u001b[39mCoM\u001b[39m\u001b[39m\"\u001b[39m,\n\u001b[1;32m    599\u001b[0m              src_offset\u001b[39m=\u001b[39m\u001b[39mNone\u001b[39;00m, dtype\u001b[39m=\u001b[39mnp\u001b[39m.\u001b[39mfloat32):\n\u001b[1;32m    600\u001b[0m \u001b[39m    \u001b[39m\u001b[39m\"\"\"\u001b[39;00m\n\u001b[1;32m    601\u001b[0m \u001b[39m    Transforms `src` into `target` space.\u001b[39;00m\n\u001b[1;32m    602\u001b[0m \n\u001b[0;32m   (...)\u001b[0m\n\u001b[1;32m    618\u001b[0m \u001b[39m      [default: \"CoM\"]  : centre of mass.\u001b[39;00m\n\u001b[1;32m    619\u001b[0m \u001b[39m    \"\"\"\u001b[39;00m\n\u001b[0;32m--> 620\u001b[0m     \u001b[39mfrom\u001b[39;00m \u001b[39mdipy\u001b[39;00m\u001b[39m.\u001b[39;00m\u001b[39malign\u001b[39;00m\u001b[39m.\u001b[39;00m\u001b[39mimaffine\u001b[39;00m \u001b[39mimport\u001b[39;00m AffineMap, transform_centers_of_mass\n\u001b[1;32m    622\u001b[0m     \u001b[39massert\u001b[39;00m src\u001b[39m.\u001b[39mndim \u001b[39m==\u001b[39m \u001b[39m3\u001b[39m\n\u001b[1;32m    623\u001b[0m     \u001b[39mif\u001b[39;00m target \u001b[39mis\u001b[39;00m \u001b[39mnot\u001b[39;00m \u001b[39mNone\u001b[39;00m:\n",
      "\u001b[0;31mModuleNotFoundError\u001b[0m: No module named 'dipy'"
     ]
    }
   ],
   "source": [
    "# bonus: use brute-force registration to transform\n",
    "#!pip install -U 'brainweb[register]'\n",
    "reg = brainweb.register(\n",
    "    data[:, ::-1], target=vol['PET'],\n",
    "    src_resolution=brainweb.Res.brainweb,\n",
    "    target_resolution=brainweb.Res.mMR)\n",
    "\n",
    "volshow({\n",
    "    \"PET\":    vol['PET'][:, 100:-100, 100:-100],\n",
    "    \"RawReg\": reg[       :, 100:-100, 100:-100],\n",
    "    \"T1\":     vol['T1' ][:, 100:-100, 100:-100],\n",
    "}, cmaps=['hot', 'gist_ncar', 'Greys_r'], ncols=3, tight_layout=5, figsize=(9.5, 3.5), frameon=False);"
   ]
  }
 ],
 "metadata": {
  "kernelspec": {
   "display_name": "Python 3",
   "language": "python",
   "name": "python3"
  },
  "language_info": {
   "codemirror_mode": {
    "name": "ipython",
    "version": 3
   },
   "file_extension": ".py",
   "mimetype": "text/x-python",
   "name": "python",
   "nbconvert_exporter": "python",
   "pygments_lexer": "ipython3",
   "version": "3.9.15"
  }
 },
 "nbformat": 4,
 "nbformat_minor": 2
}
